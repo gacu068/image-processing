{
 "cells": [
  {
   "cell_type": "code",
   "execution_count": 1,
   "id": "ef1938ea",
   "metadata": {},
   "outputs": [
    {
     "name": "stdout",
     "output_type": "stream",
     "text": [
      "56\n",
      "(224, 224, 3)\n"
     ]
    }
   ],
   "source": [
    "import matplotlib.pyplot as plt\n",
    "import numpy as np\n",
    "import math\n",
    "from PIL import Image\n",
    "from skimage.io import imread\n",
    "\n",
    "import sys\n",
    "#np.set_printoptions(threshold=sys.maxsize)\n",
    "\n",
    "sample_img = imread('./img/bee.jpg')\n",
    "print(sample_img.shape[0])\n",
    "\n",
    "times = 4\n",
    "shape = (sample_img.shape[0]*times,sample_img.shape[1]*times,3)\n",
    "sample_new = np.zeros(shape,dtype='uint8')\n",
    "print(sample_new.shape)\n",
    "\n",
    "\n",
    "for x in range(sample_new.shape[0]):\n",
    "    for y in range(sample_new.shape[1]):\n",
    "        temp_x = x/4\n",
    "        temp_y = y/4\n",
    "       \n",
    "        temp_x = round(temp_x)\n",
    "        temp_y = round(temp_y)\n",
    "        if(temp_x > sample_img.shape[0]-1):\n",
    "            temp_x = sample_img.shape[0]-1\n",
    "            \n",
    "        if(temp_y > sample_img.shape[1]-1):\n",
    "            temp_y = sample_img.shape[1]-1\n",
    "\n",
    "        \n",
    "        sample_new[x][y][0] = int(sample_img[temp_x][temp_y][0])\n",
    "        sample_new[x][y][1] = int(sample_img[temp_x][temp_y][1])\n",
    "        sample_new[x][y][2] = int(sample_img[temp_x][temp_y][2])\n",
    "        \n",
    "  \n",
    "       \n",
    "#print(sample_new)\n",
    "img = Image.fromarray(sample_new, 'RGB')\n",
    "\n",
    "img.save('./out/bee_near.jpg')\n",
    "#img.show()"
   ]
  },
  {
   "cell_type": "code",
   "execution_count": 2,
   "id": "12d68024",
   "metadata": {},
   "outputs": [],
   "source": [
    "import matplotlib.pyplot as plt\n",
    "import numpy as np\n",
    "import math\n",
    "from PIL import Image\n",
    "from skimage.io import imread\n",
    "\n",
    "sample_img2 = imread('./img/bee.jpg')\n",
    "times = 4\n",
    "shape = (sample_img.shape[0]*times,sample_img.shape[1]*times,3)\n",
    "sample_new2 = np.zeros(shape,dtype='uint8')\n",
    "\n",
    "\n",
    "for x in range(sample_new2.shape[0]):\n",
    "    for y in range(sample_new2.shape[1]):\n",
    "        temp_x = (x)/4\n",
    "        temp_y = (y)/4\n",
    "        \n",
    "        x1 = int(temp_x)\n",
    "        y1 = int(temp_y)\n",
    "        \n",
    "        #print(x1,y1)\n",
    "        \n",
    "        u = temp_x - x1\n",
    "        v = temp_y - y1\n",
    "        \n",
    "        if(x1==sample_img.shape[0]-1 and y1==sample_img.shape[0]-1):\n",
    "            sample_new2[x][y] = sample_img2[sample_img.shape[0]-1][sample_img.shape[1]-1]\n",
    "        elif(x1==sample_img.shape[0]-1):\n",
    "            sample_new2[x][y] = ((1-v)*sample_img2[x1][y1] +\n",
    "                                (v)*sample_img2[x1][y1+1])\n",
    "        elif(y1==sample_img.shape[1]-1):\n",
    "            sample_new2[x][y] = ((1-u)*sample_img2[x1][y1] + \n",
    "                                (u)*sample_img2[x1+1][y1])\n",
    "        else:\n",
    "            sample_new2[x][y] = ((1-u)*(1-v)*sample_img2[x1][y1] + \n",
    "                                (u)*(1-v)*sample_img2[x1+1][y1] + \n",
    "                                (1-u)*(v)*sample_img2[x1][y1+1] +\n",
    "                                (u)*(v)*sample_img2[x1+1][y1+1])\n",
    "\n",
    "\n",
    "img = Image.fromarray(sample_new2, 'RGB')\n",
    "img.save('./out/bee_linear.jpg')        "
   ]
  },
  {
   "cell_type": "code",
   "execution_count": null,
   "id": "b1b043a8",
   "metadata": {},
   "outputs": [],
   "source": []
  }
 ],
 "metadata": {
  "kernelspec": {
   "display_name": "Python 3 (ipykernel)",
   "language": "python",
   "name": "python3"
  },
  "language_info": {
   "codemirror_mode": {
    "name": "ipython",
    "version": 3
   },
   "file_extension": ".py",
   "mimetype": "text/x-python",
   "name": "python",
   "nbconvert_exporter": "python",
   "pygments_lexer": "ipython3",
   "version": "3.9.13"
  }
 },
 "nbformat": 4,
 "nbformat_minor": 5
}
